{
 "cells": [
  {
   "cell_type": "code",
   "execution_count": 1,
   "id": "ce11e9f7",
   "metadata": {},
   "outputs": [],
   "source": [
    "import cv2"
   ]
  },
  {
   "cell_type": "code",
   "execution_count": 2,
   "id": "404b83ff",
   "metadata": {},
   "outputs": [],
   "source": [
    "detector=cv2.CascadeClassifier('./haarcascade_frontalface_default.xml')"
   ]
  },
  {
   "cell_type": "code",
   "execution_count": 4,
   "id": "4b2deca1",
   "metadata": {},
   "outputs": [],
   "source": [
    "cam=cv2.VideoCapture(0)\n",
    "while True:\n",
    "    flag,img=cam.read()\n",
    "    \n",
    "    if flag==False:\n",
    "        continue\n",
    "    all_faces=detector.detectMultiScale(img) \n",
    "    \n",
    "    for face in all_faces:\n",
    "        x,y,w,h=face\n",
    "        img=cv2.rectangle(img,(x,y),(x+w,y+h),(0,0,255),4)\n",
    "    cv2.imshow('result', img)\n",
    "    \n",
    "    if cv2.waitKey(2)==27:\n",
    "        break\n",
    "        \n",
    "cam.release()\n",
    "cv2.destroyAllWindows()   "
   ]
  },
  {
   "cell_type": "code",
   "execution_count": null,
   "id": "a7f22139",
   "metadata": {},
   "outputs": [],
   "source": []
  }
 ],
 "metadata": {
  "kernelspec": {
   "display_name": "Python 3",
   "language": "python",
   "name": "python3"
  },
  "language_info": {
   "codemirror_mode": {
    "name": "ipython",
    "version": 3
   },
   "file_extension": ".py",
   "mimetype": "text/x-python",
   "name": "python",
   "nbconvert_exporter": "python",
   "pygments_lexer": "ipython3",
   "version": "3.8.8"
  }
 },
 "nbformat": 4,
 "nbformat_minor": 5
}
